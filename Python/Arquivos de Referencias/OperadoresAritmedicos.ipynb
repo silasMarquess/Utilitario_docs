{
 "cells": [
  {
   "cell_type": "code",
   "execution_count": 5,
   "id": "69802b06-964b-4f0c-9813-cb0d4568d36a",
   "metadata": {},
   "outputs": [
    {
     "name": "stdout",
     "output_type": "stream",
     "text": [
      "Soma:  33\n",
      "Sub: 2.3\n",
      "Mult: 100\n",
      "divInteira: 2\n",
      "Resto Div: 1\n"
     ]
    }
   ],
   "source": [
    "soma = 23+10;\n",
    "subtracao = 23/10\n",
    "mult = 10*10;\n",
    "divInteira=5//2;\n",
    "restoDivi = 5%2;\n",
    "print(\"Soma: \",soma);\n",
    "print(\"Sub:\",subtracao);\n",
    "print(\"Mult:\",mult)\n",
    "print(\"divInteira:\",divInteira)\n",
    "print(\"Resto Div:\",restoDiv)"
   ]
  },
  {
   "cell_type": "code",
   "execution_count": 9,
   "id": "54727baf-8450-4b64-92d0-6e91f2c886f0",
   "metadata": {},
   "outputs": [
    {
     "data": {
      "text/plain": [
       "float"
      ]
     },
     "execution_count": 9,
     "metadata": {},
     "output_type": "execute_result"
    }
   ],
   "source": []
  },
  {
   "cell_type": "code",
   "execution_count": null,
   "id": "fcc4b6a1-963c-4938-b87e-f32ab05cb3ff",
   "metadata": {},
   "outputs": [],
   "source": []
  }
 ],
 "metadata": {
  "kernelspec": {
   "display_name": "Python 3 (ipykernel)",
   "language": "python",
   "name": "python3"
  },
  "language_info": {
   "codemirror_mode": {
    "name": "ipython",
    "version": 3
   },
   "file_extension": ".py",
   "mimetype": "text/x-python",
   "name": "python",
   "nbconvert_exporter": "python",
   "pygments_lexer": "ipython3",
   "version": "3.11.7"
  }
 },
 "nbformat": 4,
 "nbformat_minor": 5
}
