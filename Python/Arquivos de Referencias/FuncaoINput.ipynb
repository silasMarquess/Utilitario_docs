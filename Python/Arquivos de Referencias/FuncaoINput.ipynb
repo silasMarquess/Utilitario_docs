{
 "cells": [
  {
   "cell_type": "code",
   "execution_count": 4,
   "id": "c502cf3c-e0e0-453c-b56f-9a807f3c2b60",
   "metadata": {},
   "outputs": [
    {
     "name": "stdin",
     "output_type": "stream",
     "text": [
      "Inform o nome Silas Marques\n"
     ]
    },
    {
     "name": "stdout",
     "output_type": "stream",
     "text": [
      "Seu nome é:  Silas Marques\n"
     ]
    },
    {
     "name": "stdin",
     "output_type": "stream",
     "text": [
      "Informe sua idade: 23\n"
     ]
    },
    {
     "name": "stdout",
     "output_type": "stream",
     "text": [
      "Idade:  23\n"
     ]
    }
   ],
   "source": [
    "#Trabalhando com Variaveis:\n",
    "nome = input(\"Inform o nome\");\n",
    "print(\"Seu nome é: \",nome);\n",
    "idade = input(\"Informe sua idade:\");\n",
    "print(\"Idade: \", idade);"
   ]
  },
  {
   "cell_type": "code",
   "execution_count": 5,
   "id": "13403b9f-427b-4689-91f1-a35d0ce721a4",
   "metadata": {},
   "outputs": [
    {
     "name": "stdin",
     "output_type": "stream",
     "text": [
      "Informe sua idade 23\n"
     ]
    },
    {
     "name": "stdout",
     "output_type": "stream",
     "text": [
      "Idade + 10 anos: 33\n"
     ]
    }
   ],
   "source": [
    "#Lendo dados e convertendo\n",
    "idade = int(input(\"Informe sua idade\"));\n",
    "soma = idade + 10;\n",
    "print(\"Idade + 10 anos:\",soma);"
   ]
  },
  {
   "cell_type": "code",
   "execution_count": null,
   "id": "9d93b616-a20a-4098-b514-a37d32eaa1a8",
   "metadata": {},
   "outputs": [],
   "source": []
  }
 ],
 "metadata": {
  "kernelspec": {
   "display_name": "Python 3 (ipykernel)",
   "language": "python",
   "name": "python3"
  },
  "language_info": {
   "codemirror_mode": {
    "name": "ipython",
    "version": 3
   },
   "file_extension": ".py",
   "mimetype": "text/x-python",
   "name": "python",
   "nbconvert_exporter": "python",
   "pygments_lexer": "ipython3",
   "version": "3.11.7"
  }
 },
 "nbformat": 4,
 "nbformat_minor": 5
}
