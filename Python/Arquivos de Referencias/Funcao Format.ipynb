{
 "cells": [
  {
   "cell_type": "code",
   "execution_count": 6,
   "id": "2a8e62bc-c6e7-4d42-a3d4-28e0493f49d5",
   "metadata": {},
   "outputs": [
    {
     "name": "stdout",
     "output_type": "stream",
     "text": [
      "Gosto de sorvete de Morango\n",
      "Gost de sorvete de Chocolate\n"
     ]
    }
   ],
   "source": [
    "#trabalhando com a função formats\n",
    "sabor01 = \"Chocolate\"\n",
    "sabor02=\"Morango\"\n",
    "print(\"Gosto de sorvete de {}\".format(sabor02));\n",
    "print(\"Gost de sorvete de %s\"%sabor01);\n"
   ]
  },
  {
   "cell_type": "code",
   "execution_count": 7,
   "id": "bd981c69-aabb-4751-922a-82da74b52aad",
   "metadata": {},
   "outputs": [
    {
     "name": "stdin",
     "output_type": "stream",
     "text": [
      "Nome:  Silas\n"
     ]
    },
    {
     "name": "stdout",
     "output_type": "stream",
     "text": [
      "Nome Informado: Silas\n",
      "Idade: 23\n"
     ]
    }
   ],
   "source": [
    "nome = input(\"Nome: \")\n",
    "idade = 23;\n",
    "print(\"Nome Informado: {}\".format(nome));\n",
    "print(\"Idade: %s\"%idade);"
   ]
  },
  {
   "cell_type": "code",
   "execution_count": 11,
   "id": "8ca019c7-5f6b-4dc4-8a42-0a1566fc4e19",
   "metadata": {},
   "outputs": [
    {
     "name": "stdout",
     "output_type": "stream",
     "text": [
      "O nome é 'silas' e o sobrenome 1 é 'sousa' e sobrenome2 é 'Marques'\n"
     ]
    }
   ],
   "source": [
    "nome = (\"silas\", \"sousa\", \"Marques\")\n",
    "print(\"O nome é '{0}' e o sobrenome 1 é '{1}' e sobrenome2 é '{2}'\"\n",
    "     .format(nome[0], nome[1],nome[2]));"
   ]
  },
  {
   "cell_type": "code",
   "execution_count": 13,
   "id": "b700b396-0f4b-4075-b24d-48b5e4d28ed5",
   "metadata": {},
   "outputs": [
    {
     "name": "stdout",
     "output_type": "stream",
     "text": [
      "O resultado da conta é: 3.33\n"
     ]
    }
   ],
   "source": [
    "#Trabalhando com casas decimais\n",
    "conta = 10/3\n",
    "print(\"O resultado da conta é: {:.2f}\".format(conta))"
   ]
  },
  {
   "cell_type": "code",
   "execution_count": null,
   "id": "1f42cc59-3f5e-4fe3-a51b-372da4825ad6",
   "metadata": {},
   "outputs": [],
   "source": []
  }
 ],
 "metadata": {
  "kernelspec": {
   "display_name": "Python 3 (ipykernel)",
   "language": "python",
   "name": "python3"
  },
  "language_info": {
   "codemirror_mode": {
    "name": "ipython",
    "version": 3
   },
   "file_extension": ".py",
   "mimetype": "text/x-python",
   "name": "python",
   "nbconvert_exporter": "python",
   "pygments_lexer": "ipython3",
   "version": "3.11.7"
  }
 },
 "nbformat": 4,
 "nbformat_minor": 5
}
