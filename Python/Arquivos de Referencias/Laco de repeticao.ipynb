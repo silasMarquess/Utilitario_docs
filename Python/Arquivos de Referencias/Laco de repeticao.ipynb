{
 "cells": [
  {
   "cell_type": "code",
   "execution_count": 5,
   "id": "3861d053-55ee-40e3-b9b4-9a86da86c6d9",
   "metadata": {},
   "outputs": [
    {
     "name": "stdout",
     "output_type": "stream",
     "text": [
      "0\n",
      "1\n",
      "2\n",
      "3\n",
      "4\n",
      "5\n",
      "6\n",
      "7\n",
      "8\n",
      "9\n"
     ]
    }
   ],
   "source": [
    "#Trabalhando com loop For\n",
    "for i in range(10):\n",
    "    print(i)"
   ]
  },
  {
   "cell_type": "code",
   "execution_count": 7,
   "id": "0c36ffb8-20a1-4168-a51d-9607c47b363a",
   "metadata": {},
   "outputs": [
    {
     "name": "stdout",
     "output_type": "stream",
     "text": [
      "Ola mundo\n",
      "Ola mundo\n",
      "Ola mundo\n"
     ]
    }
   ],
   "source": [
    "for i in range(3):\n",
    "    print(\"Ola mundo\")"
   ]
  },
  {
   "cell_type": "code",
   "execution_count": 9,
   "id": "c6202252-aa2e-4214-8444-6c66875ae55a",
   "metadata": {},
   "outputs": [
    {
     "name": "stdout",
     "output_type": "stream",
     "text": [
      "5\n",
      "5\n",
      "5\n",
      "5\n",
      "5\n"
     ]
    }
   ],
   "source": [
    "a =0 \n",
    "b =5\n",
    "for i in range(b):\n",
    "    print(a)"
   ]
  },
  {
   "cell_type": "code",
   "execution_count": 10,
   "id": "2b894a9c-a529-4ad9-b12d-451f3c2bc5c0",
   "metadata": {},
   "outputs": [
    {
     "name": "stdout",
     "output_type": "stream",
     "text": [
      "P\n",
      "y\n",
      "t\n",
      "h\n",
      "o\n",
      "n\n"
     ]
    }
   ],
   "source": [
    "curso = \"Python\"\n",
    "for i in curso:\n",
    "    print(i)\n",
    "#Neste caso o laco percorre um conjuntos de caractere que é uma string\n"
   ]
  },
  {
   "cell_type": "code",
   "execution_count": 19,
   "id": "d278a822-9805-4e37-8d1b-12998c2ceb0f",
   "metadata": {},
   "outputs": [
    {
     "name": "stdout",
     "output_type": "stream",
     "text": [
      "1 Ola mundo\n",
      "2 Ola mundo\n",
      "3 Ola mundo\n",
      "4 Ola mundo\n",
      "5 Ola mundo\n",
      "6 Ola mundo\n"
     ]
    }
   ],
   "source": [
    "import time\n",
    "cont = 0;\n",
    "while(cont <= 5):\n",
    "    print(\"{0} Ola mundo\".format(cont+1))\n",
    "    cont= cont +1;\n",
    "    time.sleep(1);\n"
   ]
  },
  {
   "cell_type": "code",
   "execution_count": 25,
   "id": "2214afcd-b6fa-41a7-94b9-136a209c632d",
   "metadata": {},
   "outputs": [
    {
     "name": "stdin",
     "output_type": "stream",
     "text": [
      "Informe um numero: 5\n"
     ]
    },
    {
     "name": "stdout",
     "output_type": "stream",
     "text": [
      "fatorial de 5 é 120\n"
     ]
    }
   ],
   "source": [
    "numero =int(input(\"Informe um numero:\"))\n",
    "fat =  numero;\n",
    "contador =1\n",
    "while (numero - contador)>=1:\n",
    "    fat = fat * (numero - contador)\n",
    "    contador+=1;\n",
    "print(\"fatorial de {0} é {1}\".format(numero,fat))\n"
   ]
  },
  {
   "cell_type": "code",
   "execution_count": null,
   "id": "acbf0b8d-ff24-4d20-bb19-33dd9f70a3d3",
   "metadata": {},
   "outputs": [],
   "source": []
  }
 ],
 "metadata": {
  "kernelspec": {
   "display_name": "Python 3 (ipykernel)",
   "language": "python",
   "name": "python3"
  },
  "language_info": {
   "codemirror_mode": {
    "name": "ipython",
    "version": 3
   },
   "file_extension": ".py",
   "mimetype": "text/x-python",
   "name": "python",
   "nbconvert_exporter": "python",
   "pygments_lexer": "ipython3",
   "version": "3.11.7"
  }
 },
 "nbformat": 4,
 "nbformat_minor": 5
}
