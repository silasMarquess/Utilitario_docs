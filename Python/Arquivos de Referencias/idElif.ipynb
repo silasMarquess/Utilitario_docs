{
 "cells": [
  {
   "cell_type": "code",
   "execution_count": 11,
   "id": "6f87034d-f278-47a6-8527-c4ae78c2f659",
   "metadata": {},
   "outputs": [
    {
     "name": "stdout",
     "output_type": "stream",
     "text": [
      "é agua\n"
     ]
    }
   ],
   "source": [
    "bebida = \"agua\"\n",
    "if bebida == \"cerveja\":\n",
    "    print(\"è Uma cerveja\")\n",
    "elif bebida==\"suco\":\n",
    "    print(\"è um suco\")\n",
    "elif bebida==\"agua\":\n",
    "    print(\"é agua\")\n",
    "else:\n",
    "    print(\"Não conheço\")"
   ]
  },
  {
   "cell_type": "code",
   "execution_count": 13,
   "id": "85af1ea7-4dbb-49ae-9ed6-5f7f7d1235cc",
   "metadata": {},
   "outputs": [
    {
     "name": "stdout",
     "output_type": "stream",
     "text": [
      "Maior de idade\n"
     ]
    }
   ],
   "source": [
    "idade = 18\n",
    "if (idade>=18):\n",
    "    print(\"Maior de idade\");\n",
    "else:\n",
    "    print(\"Menor de idade\");"
   ]
  },
  {
   "cell_type": "code",
   "execution_count": 15,
   "id": "c20b157a-b7ec-4c73-a520-35c14406aea7",
   "metadata": {},
   "outputs": [
    {
     "ename": "SyntaxError",
     "evalue": "leading zeros in decimal integer literals are not permitted; use an 0o prefix for octal integers (4076263567.py, line 5)",
     "output_type": "error",
     "traceback": [
      "\u001b[1;36m  Cell \u001b[1;32mIn[15], line 5\u001b[1;36m\u001b[0m\n\u001b[1;33m    mesAtual = 05\u001b[0m\n\u001b[1;37m               ^\u001b[0m\n\u001b[1;31mSyntaxError\u001b[0m\u001b[1;31m:\u001b[0m leading zeros in decimal integer literals are not permitted; use an 0o prefix for octal integers\n"
     ]
    }
   ],
   "source": [
    "ano =int(input(\"Ano de nascimento:\"));\n",
    "mes = int(input(\"Informe seu mês de nascimento\"));\n",
    "idade =0;\n",
    "anoAtual = 2024\n",
    "mesAtual = 05\n",
    "if mesAtual == mes:\n",
    "   \n",
    "\n",
    "print(\"Idade: {}\".format(idade));\n"
   ]
  },
  {
   "cell_type": "code",
   "execution_count": null,
   "id": "713dde12-0e24-4e7e-b196-6bc249958727",
   "metadata": {},
   "outputs": [],
   "source": []
  }
 ],
 "metadata": {
  "kernelspec": {
   "display_name": "Python 3 (ipykernel)",
   "language": "python",
   "name": "python3"
  },
  "language_info": {
   "codemirror_mode": {
    "name": "ipython",
    "version": 3
   },
   "file_extension": ".py",
   "mimetype": "text/x-python",
   "name": "python",
   "nbconvert_exporter": "python",
   "pygments_lexer": "ipython3",
   "version": "3.11.7"
  }
 },
 "nbformat": 4,
 "nbformat_minor": 5
}
