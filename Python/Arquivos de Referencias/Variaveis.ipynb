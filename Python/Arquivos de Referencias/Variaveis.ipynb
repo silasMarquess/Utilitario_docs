{
 "cells": [
  {
   "cell_type": "code",
   "execution_count": null,
   "id": "c1a4ed37-bdd1-45ea-a469-2c0dc52df058",
   "metadata": {},
   "outputs": [],
   "source": [
    "nome = \"Silas\"\n",
    "idade = 23.5\n",
    "type(nome)\n",
    "type(idade)"
   ]
  }
 ],
 "metadata": {
  "kernelspec": {
   "display_name": "Python 3 (ipykernel)",
   "language": "python",
   "name": "python3"
  },
  "language_info": {
   "codemirror_mode": {
    "name": "ipython",
    "version": 3
   },
   "file_extension": ".py",
   "mimetype": "text/x-python",
   "name": "python",
   "nbconvert_exporter": "python",
   "pygments_lexer": "ipython3",
   "version": "3.11.7"
  }
 },
 "nbformat": 4,
 "nbformat_minor": 5
}
